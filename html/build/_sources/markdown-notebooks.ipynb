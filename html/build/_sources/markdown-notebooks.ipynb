{
 "cells": [
  {
   "cell_type": "markdown",
   "id": "6fdb966b",
   "metadata": {},
   "source": [
    "# Démonstration de Jupyter Books\n",
    "## Bases\n",
    "\n",
    "Installation :\n",
    "```bash\n",
    "pip3 install -U jupyter-book\n",
    "```\n",
    "\n",
    "Création :\n",
    "```bash\n",
    "jb create moncours/\n",
    "```\n",
    "\n",
    "ou pour créer à partir d'une TDM : \n",
    "\n",
    "\n",
    "```bash\n",
    "jb toc to-project path/to/_toc.yml \n",
    "```\n",
    "\n",
    "\n",
    "Compiler le cours :\n",
    "\n",
    "\n",
    "```bash\n",
    "jb build moncours/\n",
    "```\n",
    "\n",
    "Trois types de contenus sont acceptés en entrée : md, ipynb, MyST md\n",
    "\n",
    "\n",
    "\n",
    "\n",
    "Nettoyage des fichiers sans .jupyter_cache :\n",
    "\n",
    "```bash\n",
    "jupyter-book clean mybookname/\n",
    "```\n",
    "\n",
    "et de tout le dossier build :\n",
    "\n",
    "```bash\n",
    "jupyter-book clean mybookname/ --all\n",
    "```\n",
    "\n",
    "\n",
    "\n",
    "[Badges](https://shields.io/)\n",
    "\n",
    "[![Jupyter Book Badge](badge.svg)](<YOUR URL HERE>)\n",
    "\n",
    "\n",
    "## Format MyST\n",
    "Conversion MD ->myST (ajout de metadonnées au début) :\n",
    "\n",
    "```bash\n",
    "jupyter-book myst init path/to/markdownfile.md\n",
    "```\n",
    "\n",
    "Conversion IPYNB ->myST :\n",
    "\n",
    "```bash\n",
    "jupytext mynotebook.ipynb --to myst\n",
    "```\n",
    "\n",
    "[Liste des commandes en plus de MD](https://myst-parser.readthedocs.io/en/latest/syntax/syntax.html#syntax-directives)\n",
    "\n",
    "\n",
    "\n",
    "## Images et figures\n",
    "\n",
    "```{image} logo.png\n",
    "\n",
    ":alt: fishy\n",
    ":class: bg-primary mb-1\n",
    ":width: 200px\n",
    ":align: center\n",
    "```"
   ]
  },
  {
   "cell_type": "markdown",
   "id": "f2a18a50",
   "metadata": {},
   "source": [
    "```{figure} logo.png\n",
    "---\n",
    "height: 150px\n",
    "name: directive-fig\n",
    "---\n",
    "Logo !\n",
    "```\n",
    "\n",
    "\n",
    "puis pour faire un lien :\n",
    "{ref}`directive-fig`"
   ]
  },
  {
   "cell_type": "markdown",
   "id": "472b8c5b",
   "metadata": {},
   "source": [
    "Pour déplacer la légende en marge :\n",
    "\n",
    "```{figure} logo.png\n",
    "---\n",
    "figclass: margin-caption\n",
    "---\n",
    "Here is my figure caption!\n",
    "```"
   ]
  },
  {
   "cell_type": "markdown",
   "id": "b33f5a56",
   "metadata": {},
   "source": [
    "Pour déplacer la figure complète :\n",
    "\n",
    "\n",
    "```{figure} logo.png\n",
    "---\n",
    "figclass: margin\n",
    "---\n",
    "Here is my figure caption!\n",
    "```"
   ]
  },
  {
   "cell_type": "markdown",
   "id": "16e552be",
   "metadata": {},
   "source": [
    "Pour aligner à gauche :\n",
    "```{figure} logo.png\n",
    "---\n",
    "scale: 50%\n",
    "align: left\n",
    "---\n",
    "Here is my figure caption!\n",
    "```\n",
    "\n",
    "\n",
    "\n",
    "\n",
    "## Cacher\n",
    "### Dans un fichier MD\n",
    "```{dropdown} Cliquez ici \n",
    "Contenu caché !\n",
    "```\n",
    "(marche sans Javascript contrairement au suivant)\n",
    "\n",
    "\n",
    "```{admonition} Cliquez ici\n",
    ":class: dropdown\n",
    "Contenu caché !\n",
    "```\n",
    "\n",
    "```{toggle}\n",
    "Contenu caché !\n",
    "```\n",
    "\n",
    "```{toggle} Cliquez ici \n",
    ":show:\n",
    "Contenu caché !\n",
    "```\n",
    "\n",
    "\n",
    "\n",
    "\n",
    "### Dans un fichier MyST\n",
    "\n",
    "\n",
    "\n",
    "### Dans un notebook\n",
    "\n",
    "\n",
    "\n",
    "https://jupyterbook.org/en/stable/interactive/hiding.html#hiding-remove-content\n",
    "\n",
    "```\n",
    "{\n",
    "    \"tags\": [\n",
    "        \"hide-output\"\n",
    "    ]\n",
    "}\n",
    "```\n",
    "\n",
    "ou hide-cell\tou hide-input\tou remove-cell etc.\n",
    "\n",
    "## Boîtes\n",
    "### Admonition : boite avec un titre perso\n",
    "```{admonition} Ma boîte\n",
    ":class: tip\n",
    "Coucou\n",
    "```"
   ]
  },
  {
   "cell_type": "markdown",
   "id": "6b734800",
   "metadata": {},
   "source": [
    "Inclusions :\n",
    "::::{important}\n",
    ":::{note}\n",
    "This text is **standard** _Markdown_\n",
    ":::\n",
    "::::\n",
    "\n",
    "### Directives\n",
    "```{note}\n",
    "Here is a note!\n",
    "```\n",
    "autres : warning, \n",
    "liste ici : https://sphinx-book-theme.readthedocs.io/en/latest/reference/kitchen-sink/paragraph-markup.html#admonitions"
   ]
  },
  {
   "cell_type": "markdown",
   "id": "c34deb44",
   "metadata": {},
   "source": [
    "Autre syntaxe plus compatible avec d'autres outils :\n",
    ":::{note}\n",
    "This text is **standard** _Markdown_\n",
    ":::\n",
    "\n",
    "\n",
    "\n",
    "## Dispositions\n",
    "### Cartes côte à côte\n",
    "````{panels}\n",
    "Panel header 1\n",
    "^^^\n",
    "Panel body 1\n",
    "+++\n",
    "Panel footer 1\n",
    "---\n",
    "\n",
    "Panel header 2\n",
    "^^^\n",
    "Panel body 2\n",
    "+++\n",
    "Panel footer 2\n",
    "````\n",
    "voir : https://sphinx-panels.readthedocs.io/en/latest/#card-layout\n",
    "\n",
    "\n",
    "````{panels}\n",
    ":column: col-4\n",
    ":card: border-2\n",
    "Header A\n",
    "^^^\n",
    "Body A\n",
    "---\n",
    "Header B\n",
    "^^^\n",
    "Body B\n",
    "---\n",
    "Header C\n",
    "^^^\n",
    "Body C\n",
    "````\n",
    "voir : https://sphinx-panels.readthedocs.io/en/latest/#card-styling\n",
    "\n",
    "\n",
    "### Tabbed contents\n",
    "```{tabbed} Tab 1 title\n",
    "My first tab\n",
    "```\n",
    "\n",
    "```{tabbed} Tab 2 title\n",
    "My second tab with `some code`!\n",
    "```\n",
    "\n",
    "un exemple avec intégration de sortie :\n",
    "````{tabbed} A histogram\n",
    "```{glue:figure} boot_fig\n",
    ":figwidth: 300px\n",
    ":name: \"fig-boot-tab\"\n",
    "\n",
    "This is a **caption**, with an embedded `{glue:text}` element: {glue:text}`boot_mean:.2f`!\n",
    "```\n",
    "````\n",
    "\n",
    "````{tabbed} A table\n",
    "```{glue:figure} df_tbl\n",
    ":figwidth: 300px\n",
    ":name: \"tbl:df-tab\"\n",
    "\n",
    "A caption for a pandas table.\n",
    "```\n",
    "````\n",
    "\n",
    "````{tabbed} Code to generate this\n",
    "`{ code block here }`\n",
    "````\n",
    "\n",
    "voir : https://sphinx-panels.readthedocs.io/en/sphinx-book-theme/index.html#components-tabbed\n",
    "\n",
    "\n",
    "### Utilisation de la marge\n",
    "#### Contenu placé à droite\n",
    "```{sidebar} My sidebar title\n",
    "My sidebar content\n",
    "```\n",
    "\n",
    "#### Marge\n",
    "```{margin} An optional title\n",
    "My margin content\n",
    "```"
   ]
  },
  {
   "cell_type": "code",
   "execution_count": 1,
   "id": "17af9e42",
   "metadata": {
    "tags": [
     "margin",
     "remove-input"
    ]
   },
   "outputs": [
    {
     "name": "stdout",
     "output_type": "stream",
     "text": [
      "Cc !\n"
     ]
    }
   ],
   "source": [
    "print('Cc !')"
   ]
  },
  {
   "cell_type": "markdown",
   "id": "5384f9ea",
   "metadata": {},
   "source": [
    "voir : https://jupyterbook.org/en/stable/reference/cheatsheet.html#myst-cheatsheet\n",
    "\n",
    "[Mettre la sortie d'une cellule (exemple : graphique) en marge droite avec un notebook](https://jupyterbook.org/en/stable/content/layout.html#layout-sidebar)\n",
    "\n",
    "\n",
    "\n",
    "\n",
    "### Occuper tout l'espace\n",
    "````{div} full-width\n",
    "```{note}\n",
    "Voilà une grande remarque\n",
    "```\n",
    "````\n",
    "\n",
    "ou :\n",
    "\n",
    "```{note}\n",
    ":class: full-width\n",
    "Voilà une grande remarque\n",
    "```\n",
    "\n",
    "\n",
    "\n",
    "\n",
    "\n",
    "\n",
    "\n",
    "## Code Python exécuté lors du build\n",
    "### Config lors du build\n",
    "https://jupyterbook.org/en/stable/content/execute.html"
   ]
  },
  {
   "cell_type": "code",
   "execution_count": 2,
   "id": "2316b3bb",
   "metadata": {},
   "outputs": [
    {
     "name": "stdout",
     "output_type": "stream",
     "text": [
      "4\n"
     ]
    }
   ],
   "source": [
    "print(2 + 2)"
   ]
  },
  {
   "cell_type": "code",
   "execution_count": 3,
   "id": "e658411e",
   "metadata": {
    "tags": [
     "output_scroll"
    ]
   },
   "outputs": [
    {
     "name": "stdout",
     "output_type": "stream",
     "text": [
      "this is output line 0\n",
      "this is output line 1\n",
      "this is output line 2\n",
      "this is output line 3\n",
      "this is output line 4\n",
      "this is output line 5\n",
      "this is output line 6\n",
      "this is output line 7\n",
      "this is output line 8\n",
      "this is output line 9\n",
      "this is output line 10\n",
      "this is output line 11\n",
      "this is output line 12\n",
      "this is output line 13\n",
      "this is output line 14\n",
      "this is output line 15\n",
      "this is output line 16\n",
      "this is output line 17\n",
      "this is output line 18\n",
      "this is output line 19\n",
      "this is output line 20\n",
      "this is output line 21\n",
      "this is output line 22\n",
      "this is output line 23\n",
      "this is output line 24\n",
      "this is output line 25\n",
      "this is output line 26\n",
      "this is output line 27\n",
      "this is output line 28\n",
      "this is output line 29\n",
      "this is output line 30\n",
      "this is output line 31\n",
      "this is output line 32\n",
      "this is output line 33\n",
      "this is output line 34\n",
      "this is output line 35\n",
      "this is output line 36\n",
      "this is output line 37\n",
      "this is output line 38\n",
      "this is output line 39\n"
     ]
    }
   ],
   "source": [
    "for i in range(40):\n",
    "    print(f\"this is output line {i}\")"
   ]
  },
  {
   "cell_type": "code",
   "execution_count": 4,
   "id": "0e1b7df5",
   "metadata": {
    "render": {
     "figure": {
      "caption": "Image chargée par IPython\n",
      "name": "logo"
     },
     "image": {
      "alt": "logo",
      "classes": "shadow bg-primary",
      "width": "200px"
     }
    }
   },
   "outputs": [
    {
     "data": {
      "image/png": "[encoded data removed]",
      "text/plain": [
       "<IPython.core.display.Image object>"
      ]
     },
     "execution_count": 4,
     "metadata": {
      "filenames": {
       "image/png": "/home/yves/Documents/Enseignement/informatique/NSI/conception_mon_site/FORGE/premiere/jupyter_books/mynewbook/_build/jupyter_execute/markdown-notebooks_11_0.png"
      }
     },
     "output_type": "execute_result"
    }
   ],
   "source": [
    "from IPython.display import Image\n",
    "Image(\"logo.png\")"
   ]
  },
  {
   "cell_type": "markdown",
   "id": "c0603dba",
   "metadata": {},
   "source": [
    "## Des maths\n",
    "$e=mc^2$ ou \n",
    "$$e=mc^2$$ \n",
    "\n",
    "## Note bas de page\n",
    "[^label] : Ma note de pdp.\n",
    "\n",
    "\n",
    "\n",
    "## Autres\n",
    "* faire interpréter du MD : https://jupyterbook.org/en/stable/content/code-outputs.html\n",
    "* liens vers images, équations, etc : https://jupyterbook.org/en/stable/content/references.html\n",
    "* [stocker des résultats de sortie Python pour les intégrer au livre](https://jupyterbook.org/en/stable/content/executable/output-insert.html)\n",
    "* [ipywidgets et figure interactive](https://jupyterbook.org/en/stable/interactive/interactive.html)\n",
    "* [construction du livre (pdf, html, etc.)](https://jupyterbook.org/en/stable/basics/build.html)\n",
    "* [conversion en PDF](https://jupyterbook.org/en/stable/advanced/pdf.html)\n",
    "\n",
    "\n",
    "```{seealso} Voir aussi\n",
    "Jupyter Book uses [Jupytext](https://jupytext.readthedocs.io/en/latest/) to convert text-based files to notebooks, and can support [many other text-based notebook files](https://jupyterbook.org/file-types/jupytext.html).\n",
    "```"
   ]
  }
 ],
 "metadata": {
  "jupytext": {
   "cell_metadata_filter": "-all",
   "formats": "md:myst",
   "text_representation": {
    "extension": ".md",
    "format_name": "myst",
    "format_version": 0.13,
    "jupytext_version": "1.11.5"
   }
  },
  "kernelspec": {
   "display_name": "Python 3",
   "language": "python",
   "name": "python3"
  },
  "language_info": {
   "codemirror_mode": {
    "name": "ipython",
    "version": 3
   },
   "file_extension": ".py",
   "mimetype": "text/x-python",
   "name": "python",
   "nbconvert_exporter": "python",
   "pygments_lexer": "ipython3",
   "version": "3.10.4"
  },
  "source_map": [
   14,
   95,
   109,
   121,
   133,
   199,
   216,
   308,
   311,
   345,
   350,
   357,
   371
  ]
 },
 "nbformat": 4,
 "nbformat_minor": 5
}